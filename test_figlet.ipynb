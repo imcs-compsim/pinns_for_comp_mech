{
 "cells": [
  {
   "cell_type": "code",
   "execution_count": 1,
   "id": "b521a0a8",
   "metadata": {},
   "outputs": [
    {
     "name": "stdout",
     "output_type": "stream",
     "text": [
      "  ______   ______   .___  ___. .______     _______. __  .___  ___.         \n",
      " /      | /  __  \\  |   \\/   | |   _  \\   /       ||  | |   \\/   |         \n",
      "|  ,----'|  |  |  | |  \\  /  | |  |_)  | |   (----`|  | |  \\  /  |  ______ \n",
      "|  |     |  |  |  | |  |\\/|  | |   ___/   \\   \\    |  | |  |\\/|  | |______|\n",
      "|  `----.|  `--'  | |  |  |  | |  |   .----)   |   |  | |  |  |  |         \n",
      " \\______| \\______/  |__|  |__| | _|   |_______/    |__| |__|  |__|         \n",
      "                                                                           \n",
      ".______    __  .__   __. .__   __. \n",
      "|   _  \\  |  | |  \\ |  | |  \\ |  | \n",
      "|  |_)  | |  | |   \\|  | |   \\|  | \n",
      "|   ___/  |  | |  . `  | |  . `  | \n",
      "|  |      |  | |  |\\   | |  |\\   | \n",
      "| _|      |__| |__| \\__| |__| \\__| \n",
      "                                   \n",
      "\n"
     ]
    }
   ],
   "source": [
    "from pyfiglet import Figlet\n",
    "\n",
    "f = Figlet(font='starwars')  # or 'big', 'block', 'banner3', etc.\n",
    "print(f.renderText('COMPSIM-PINN'))"
   ]
  }
 ],
 "metadata": {
  "kernelspec": {
   "display_name": "queens",
   "language": "python",
   "name": "python3"
  },
  "language_info": {
   "codemirror_mode": {
    "name": "ipython",
    "version": 3
   },
   "file_extension": ".py",
   "mimetype": "text/x-python",
   "name": "python",
   "nbconvert_exporter": "python",
   "pygments_lexer": "ipython3",
   "version": "3.10.0"
  }
 },
 "nbformat": 4,
 "nbformat_minor": 5
}
